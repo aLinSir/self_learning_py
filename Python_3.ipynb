{
 "cells": [
  {
   "cell_type": "code",
   "execution_count": 3,
   "metadata": {},
   "outputs": [
    {
     "name": "stdout",
     "output_type": "stream",
     "text": [
      "[0, 1, 1, 2, 3, 5, 8, 13, 21, 34]\n"
     ]
    }
   ],
   "source": [
    "def fib(n):\n",
    "    if n == 1:\n",
    "        return 0\n",
    "    elif n == 2:\n",
    "        return 1\n",
    "    else:\n",
    "        return fib(n-1) + fib(n-2)\n",
    "list = []\n",
    "n = 10\n",
    "for i in range(n):\n",
    "    list.append(fib(i + 1))\n",
    "print(list)"
   ]
  },
  {
   "cell_type": "code",
   "execution_count": 10,
   "metadata": {},
   "outputs": [
    {
     "name": "stdout",
     "output_type": "stream",
     "text": [
      "[0, 1, 1, 2, 3, 5]\n"
     ]
    }
   ],
   "source": [
    "def fib(n):\n",
    "    a, b = 0, 1\n",
    "    for _ in range(n):\n",
    "        a, b = b, a + b\n",
    "        yield a\n",
    "\n",
    "list = [i for i in fib(5)]\n",
    "list.insert(0, 0)\n",
    "print(list)"
   ]
  },
  {
   "cell_type": "code",
   "execution_count": 25,
   "metadata": {},
   "outputs": [
    {
     "name": "stdout",
     "output_type": "stream",
     "text": [
      "[1, 2, 3, 4, 5]\n",
      "a  a  a  1  2  3  4  5  A  B  C\n"
     ]
    }
   ],
   "source": [
    "import numpy as np\n",
    "a = ['a','a','a',1,2,3,4,5,'A','B','C']\n",
    "b = [i for i in a if type(i) == np.int]\n",
    "print(b)\n",
    "print('  '.join(np.array(a).astype(str)))"
   ]
  },
  {
   "cell_type": "code",
   "execution_count": 30,
   "metadata": {},
   "outputs": [
    {
     "name": "stdout",
     "output_type": "stream",
     "text": [
      "[1, 2, 3, 4]\n"
     ]
    }
   ],
   "source": [
    "a = [1, 3, 2, 3, 2, 3, 4]\n",
    "b = set(a)\n",
    "c = [i for i in b]\n",
    "print(c)"
   ]
  },
  {
   "cell_type": "code",
   "execution_count": 40,
   "metadata": {},
   "outputs": [
    {
     "name": "stdout",
     "output_type": "stream",
     "text": [
      "b_a_g_d_e_r_s_w\n",
      "a b d e g r s w\n"
     ]
    }
   ],
   "source": [
    "import pandas as pd\n",
    "a = 'absdgrwsswaeg'\n",
    "c = list(a)\n",
    "print('_'.join([c for c in set(c)]))\n",
    "_, r = pd.factorize(list(a), sort=True)\n",
    "print(' '.join(r))"
   ]
  },
  {
   "cell_type": "code",
   "execution_count": 2,
   "metadata": {},
   "outputs": [
    {
     "name": "stdout",
     "output_type": "stream",
     "text": [
      "['US', '2017', '082']\n"
     ]
    }
   ],
   "source": [
    "a = 'US-2017-082'\n",
    "a = a.split('-')\n",
    "print(a)"
   ]
  },
  {
   "cell_type": "code",
   "execution_count": 56,
   "metadata": {},
   "outputs": [
    {
     "name": "stdout",
     "output_type": "stream",
     "text": [
      "2\n"
     ]
    }
   ],
   "source": [
    "x = 1\n",
    "def change(a):\n",
    "    global x\n",
    "    x = x + 1\n",
    "    print(x)\n",
    "\n",
    "change(x)"
   ]
  },
  {
   "cell_type": "code",
   "execution_count": 10,
   "metadata": {},
   "outputs": [
    {
     "name": "stdout",
     "output_type": "stream",
     "text": [
      "5050\n"
     ]
    }
   ],
   "source": [
    "import numpy as np\n",
    "re = np.cumsum(np.arange(101))[-1]\n",
    "g = np.sum(np.arange(101))\n",
    "print(g)"
   ]
  },
  {
   "cell_type": "code",
   "execution_count": 54,
   "metadata": {},
   "outputs": [
    {
     "name": "stdout",
     "output_type": "stream",
     "text": [
      "<class 'dict_items'>\n",
      "[('a', '你'), ('e', '发生'), ('x', '什么')]\n"
     ]
    }
   ],
   "source": [
    "dict = {'e': '发生', 'a': '你', 'x': '什么'}\n",
    "print(type(dict.items()))\n",
    "print(sorted(dict.items(), key=lambda i: i[0], reverse=False))"
   ]
  },
  {
   "cell_type": "code",
   "execution_count": 3,
   "metadata": {},
   "outputs": [
    {
     "name": "stdout",
     "output_type": "stream",
     "text": [
      "f    9\n",
      "s    7\n",
      "a    6\n",
      "o    5\n",
      "n    4\n",
      "j    3\n",
      "w    3\n",
      "k    2\n",
      "h    2\n",
      "m    2\n",
      "e    2\n",
      ";    2\n",
      ",    1\n",
      "dtype: int64\n"
     ]
    }
   ],
   "source": [
    "import pandas as pd\n",
    "a = 'aksfnwoefjaonfakfasojf;sfhwnafsn;sfhowsjfaoemsm,'\n",
    "re = pd.Series(list(a)).value_counts()\n",
    "print(re)"
   ]
  },
  {
   "cell_type": "code",
   "execution_count": null,
   "metadata": {},
   "outputs": [],
   "source": []
  }
 ],
 "metadata": {
  "kernelspec": {
   "display_name": "Python 3",
   "language": "python",
   "name": "python3"
  },
  "language_info": {
   "codemirror_mode": {
    "name": "ipython",
    "version": 3
   },
   "file_extension": ".py",
   "mimetype": "text/x-python",
   "name": "python",
   "nbconvert_exporter": "python",
   "pygments_lexer": "ipython3",
   "version": "3.6.5"
  }
 },
 "nbformat": 4,
 "nbformat_minor": 2
}
