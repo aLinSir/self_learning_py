{
 "cells": [
  {
   "cell_type": "code",
   "execution_count": 1,
   "metadata": {},
   "outputs": [],
   "source": [
    "import numpy as np"
   ]
  },
  {
   "cell_type": "markdown",
   "metadata": {},
   "source": [
    "<font size=4  face=\"微软雅黑\">.random.rand(k, n, m) 表示从[0, 1)之间生成随机数，参数可指定n个，或者(k个)n行m列</font>"
   ]
  },
  {
   "cell_type": "code",
   "execution_count": 4,
   "metadata": {},
   "outputs": [
    {
     "name": "stdout",
     "output_type": "stream",
     "text": [
      "[0.31846248 0.86361659 0.25295669 0.51350029 0.39389389 0.70901585\n",
      " 0.01993737 0.57997751 0.31365154 0.90287681]\n",
      "[[0.7050914  0.30349763]\n",
      " [0.89381314 0.44579   ]\n",
      " [0.23774993 0.12555042]\n",
      " [0.1961192  0.87666855]]\n",
      "[[[0.76975673 0.80112468 0.68182772 0.64841455 0.21709615]\n",
      "  [0.06903857 0.35629673 0.16260763 0.36523147 0.08377441]\n",
      "  [0.0261172  0.83457157 0.19764389 0.2180852  0.80202854]\n",
      "  [0.63651719 0.68967457 0.97186216 0.44657248 0.90147096]\n",
      "  [0.53762776 0.83860462 0.14070574 0.63326324 0.70615163]]\n",
      "\n",
      " [[0.01021103 0.34947416 0.32130524 0.42277004 0.12489778]\n",
      "  [0.83601161 0.78104734 0.62328132 0.93933758 0.17747497]\n",
      "  [0.19326835 0.69846387 0.63062767 0.84979633 0.06182291]\n",
      "  [0.97644036 0.23300938 0.65535589 0.09089676 0.45465642]\n",
      "  [0.96545459 0.6538654  0.26557233 0.57230035 0.25385049]]\n",
      "\n",
      " [[0.66991792 0.13685336 0.266884   0.69200419 0.09303964]\n",
      "  [0.16880772 0.48183362 0.85818697 0.16669351 0.7279974 ]\n",
      "  [0.20992809 0.16734561 0.80197919 0.27850365 0.59513175]\n",
      "  [0.65555438 0.2082188  0.40745545 0.50113139 0.71499741]\n",
      "  [0.02714552 0.5923053  0.59284237 0.26763246 0.78168788]]]\n"
     ]
    }
   ],
   "source": [
    "x = np.random.rand(10)\n",
    "print(x)\n",
    "x = np.random.rand(4, 2)\n",
    "print(x)\n",
    "x = np.random.rand(3, 5, 5)\n",
    "print(x)"
   ]
  },
  {
   "cell_type": "markdown",
   "metadata": {},
   "source": [
    "<font size=4  face=\"微软雅黑\">.random.randn(k, n, m) 表示从[0, 1)之间生成正态分布随机数，参数可指定n个，或者(k个)n行m列</font>"
   ]
  },
  {
   "cell_type": "code",
   "execution_count": 10,
   "metadata": {},
   "outputs": [
    {
     "name": "stdout",
     "output_type": "stream",
     "text": [
      "[-1.2169985  -1.58456872  0.31130427  1.45149906 -1.00875044 -1.12169316\n",
      " -0.38106468  1.46698109 -0.08574763  0.73575067]\n",
      "[[ 0.43011806 -2.04932839]\n",
      " [ 0.25675354  0.69813312]\n",
      " [-0.63028485 -0.89772235]\n",
      " [ 0.48120813  1.04368352]]\n",
      "[[[-1.89742128 -0.59757617  1.2391826   2.29395319  0.03691594]\n",
      "  [-0.62479399 -0.39449536 -0.36343043 -0.09994955  0.12548646]\n",
      "  [-1.42784615  0.1176106  -0.64942086 -0.57352216 -3.08251394]\n",
      "  [ 1.33021431 -0.34361988  0.2039399  -0.13016187  0.80207299]\n",
      "  [ 0.70110576  0.89835579 -0.95799938  0.10132984 -0.46629028]]\n",
      "\n",
      " [[-1.24731756  0.81478593 -0.30082048  0.59309889 -0.08539826]\n",
      "  [-0.81027015  0.3041326   1.41111758  0.87083701  1.35718142]\n",
      "  [-0.51120785 -1.15476846  0.0506015   1.86028349  1.26126891]\n",
      "  [ 0.50914865  0.34759018 -0.0529344   0.70556056  0.07772867]\n",
      "  [-1.40998168 -0.68339387  0.19475235  0.57550768  1.30167433]]\n",
      "\n",
      " [[ 0.84221772 -0.34111808 -1.24617618 -0.76305956 -0.8299761 ]\n",
      "  [ 1.5213609  -0.7898074   0.45791471 -0.45000968 -0.42701582]\n",
      "  [ 0.63385433  0.12394555  1.99546158 -1.74523271 -2.45688176]\n",
      "  [ 1.56317247  0.63284662 -1.73392621 -0.56702638 -0.40205466]\n",
      "  [ 0.8191858  -1.13458701  1.02517875 -0.4618257  -0.72003489]]]\n"
     ]
    }
   ],
   "source": [
    "x = np.random.randn(10)\n",
    "print(x)\n",
    "x = np.random.randn(4, 2)\n",
    "print(x)\n",
    "x = np.random.randn(3, 5, 5)\n",
    "print(x)"
   ]
  },
  {
   "cell_type": "markdown",
   "metadata": {},
   "source": [
    "<font size=4  face=\"微软雅黑\">.random.randint(low, high, size) 表示从[low, high)或[0, low)之间生成随机数, size自定义</font>"
   ]
  },
  {
   "cell_type": "code",
   "execution_count": 14,
   "metadata": {},
   "outputs": [
    {
     "name": "stdout",
     "output_type": "stream",
     "text": [
      "[4 3 2 0 4 0 2 1 0 3]\n",
      "[8 7 7 9 9 7 7 5 9 9]\n",
      "[[0 3]\n",
      " [0 4]]\n"
     ]
    }
   ],
   "source": [
    "x = np.random.randint(5, size=10)\n",
    "print(x)\n",
    "x = np.random.randint(5, 10, size=10)\n",
    "print(x)\n",
    "x = np.random.randint(0, 5, size=(2, 2))\n",
    "print(x)"
   ]
  },
  {
   "cell_type": "markdown",
   "metadata": {},
   "source": [
    "<font size=4  face=\"微软雅黑\">.random.ranf(size=None) 表示从[0, 1)之间生成浮点数 size自定义</font>"
   ]
  },
  {
   "cell_type": "code",
   "execution_count": 11,
   "metadata": {},
   "outputs": [
    {
     "name": "stdout",
     "output_type": "stream",
     "text": [
      "[0.53571118 0.50470493 0.72265645 0.58424392 0.06413332 0.72390049\n",
      " 0.33496295 0.22862119 0.5668081  0.88928204]\n",
      "[[0.11655473 0.46003547]\n",
      " [0.12545859 0.64324326]\n",
      " [0.36977787 0.40310457]\n",
      " [0.77654457 0.13547358]]\n"
     ]
    }
   ],
   "source": [
    "x = np.random.ranf(10)\n",
    "print(x)\n",
    "x = np.random.ranf(size=(4, 2))\n",
    "print(x)"
   ]
  },
  {
   "cell_type": "markdown",
   "metadata": {},
   "source": [
    "<font size=4  face=\"微软雅黑\">.random.choice(a, size=None, replace=True, p=None) a为给定数据范围， size为生成的数据类型，默认一维， replace为若改为False表示不能有重复的数</font>"
   ]
  },
  {
   "cell_type": "code",
   "execution_count": 5,
   "metadata": {},
   "outputs": [
    {
     "name": "stdout",
     "output_type": "stream",
     "text": [
      "[2 4 7 6 2 7 2 2 3 9 7]\n",
      "[0 8 3 2 5 7 1 6 4 9]\n"
     ]
    }
   ],
   "source": [
    "x = np.random.choice(np.arange(2, 10), 11)\n",
    "print(x)\n",
    "x = np.random.choice(np.arange(0, 10), 10, replace=False)\n",
    "print(x)"
   ]
  },
  {
   "cell_type": "markdown",
   "metadata": {},
   "source": [
    "<font size=4  face=\"微软雅黑\">.random.seed() 设置随机数</font>"
   ]
  },
  {
   "cell_type": "code",
   "execution_count": 17,
   "metadata": {},
   "outputs": [
    {
     "name": "stdout",
     "output_type": "stream",
     "text": [
      "[0.2736144  0.18942818 0.91617972 0.38179509 0.81793611]\n",
      "[0.2736144  0.18942818 0.91617972 0.38179509 0.81793611]\n"
     ]
    }
   ],
   "source": [
    "np.random.seed = 0\n",
    "x = np.random.rand(5)\n",
    "a = np.random.permutation(5)\n",
    "print(a)\n",
    "print(x)"
   ]
  }
 ],
 "metadata": {
  "kernelspec": {
   "display_name": "Python 3",
   "language": "python",
   "name": "python3"
  },
  "language_info": {
   "codemirror_mode": {
    "name": "ipython",
    "version": 3
   },
   "file_extension": ".py",
   "mimetype": "text/x-python",
   "name": "python",
   "nbconvert_exporter": "python",
   "pygments_lexer": "ipython3",
   "version": "3.6.5"
  }
 },
 "nbformat": 4,
 "nbformat_minor": 2
}
