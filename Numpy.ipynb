{
 "cells": [
  {
   "cell_type": "code",
   "execution_count": 1,
   "metadata": {},
   "outputs": [],
   "source": [
    "import numpy as np"
   ]
  },
  {
   "cell_type": "markdown",
   "metadata": {},
   "source": [
    "<font size=4  face=\"微软雅黑\">.ndim .shape .size</font>"
   ]
  },
  {
   "cell_type": "code",
   "execution_count": 2,
   "metadata": {},
   "outputs": [
    {
     "name": "stdout",
     "output_type": "stream",
     "text": [
      "2\n",
      "(2, 3)\n",
      "6\n"
     ]
    }
   ],
   "source": [
    "array = np.array([[1, 2, 3],\n",
    "                 [4, 5, 6]])\n",
    "print(array.ndim)\n",
    "print(array.shape)\n",
    "print(array.size)"
   ]
  },
  {
   "cell_type": "markdown",
   "metadata": {},
   "source": [
    "<font size=4  face=\"微软雅黑\">.arange .zeros .linspace</font>"
   ]
  },
  {
   "cell_type": "code",
   "execution_count": 3,
   "metadata": {},
   "outputs": [
    {
     "name": "stdout",
     "output_type": "stream",
     "text": [
      "float64\n",
      "[[0 0 0 0]\n",
      " [0 0 0 0]\n",
      " [0 0 0 0]]\n",
      "[3.  3.2 3.4 3.6 3.8]\n",
      "[[ 0  1  2  3]\n",
      " [ 4  5  6  7]\n",
      " [ 8  9 10 11]]\n",
      "[ 1.     2.125  3.25   4.375  5.5    6.625  7.75   8.875 10.   ]\n"
     ]
    }
   ],
   "source": [
    "array = np.array([[1, 2, 3],\n",
    "                 [4, 5, 6]], dtype=np.float)\n",
    "array_zero = np.zeros((3, 4), dtype=np.int64)\n",
    "print(array.dtype)\n",
    "print(array_zero)\n",
    "arange = np.arange(3, 4, 0.2)                       # np.arange()        [)\n",
    "arange_1 = np.arange(12).reshape(3, 4)\n",
    "print(arange)\n",
    "print(arange_1)\n",
    "lins = np.linspace(1, 10, 9)                        # np.linspace()      [] \n",
    "print(lins)"
   ]
  },
  {
   "cell_type": "markdown",
   "metadata": {},
   "source": [
    "<font size=4  face=\"微软雅黑\">.dot .random</font>"
   ]
  },
  {
   "cell_type": "code",
   "execution_count": 4,
   "metadata": {},
   "outputs": [
    {
     "name": "stdout",
     "output_type": "stream",
     "text": [
      "[[0 1]\n",
      " [0 3]]\n",
      "[[2 4]\n",
      " [2 3]]\n",
      "[[0.95539814 0.62998772 0.1574326  0.02636014 0.34642783]\n",
      " [0.57618055 0.37980668 0.81582396 0.39814448 0.93242913]]\n",
      "[2.11560643 3.10238479]\n"
     ]
    }
   ],
   "source": [
    "a = np.array([[1, 1],\n",
    "             [0, 1]])\n",
    "b = np.arange(4).reshape(2, 2)\n",
    "c = a*b\n",
    "c_dot = np.dot(a, b)                                # a.dot(b)\n",
    "print(c)\n",
    "print(c_dot)\n",
    "a = np.random.random((2,5))\n",
    "print(a)\n",
    "print(a.sum(axis=1))"
   ]
  },
  {
   "cell_type": "markdown",
   "metadata": {},
   "source": [
    "<font size=4  face=\"微软雅黑\">.argmin .cumsum .diff .clip</font>"
   ]
  },
  {
   "cell_type": "code",
   "execution_count": 5,
   "metadata": {},
   "outputs": [
    {
     "name": "stdout",
     "output_type": "stream",
     "text": [
      "[[ 2  3  4  5]\n",
      " [ 6  7  8  9]\n",
      " [10 11 12 13]]\n",
      "0\n",
      "[[ 2  3  4  5]\n",
      " [ 8 10 12 14]\n",
      " [18 21 24 27]]\n",
      "[[1 1 1]\n",
      " [1 1 1]\n",
      " [1 1 1]]\n",
      "[[7 7 7 7]\n",
      " [7 7 8 9]\n",
      " [9 9 9 9]]\n"
     ]
    }
   ],
   "source": [
    "A =np.arange(2, 14).reshape(3, 4)\n",
    "print(A)\n",
    "idx = A.argmin()\n",
    "print(idx)\n",
    "c_sum = A.cumsum(axis=0)          #累加\n",
    "print(c_sum)\n",
    "diff = np.diff(A)\n",
    "print(diff)\n",
    "clip = np.clip(A, 7, 9)            #更改异常值\n",
    "print(clip)"
   ]
  },
  {
   "cell_type": "markdown",
   "metadata": {},
   "source": [
    "<font size=4  face=\"微软雅黑\">.T .flat for search index</font>"
   ]
  },
  {
   "cell_type": "code",
   "execution_count": 6,
   "metadata": {},
   "outputs": [
    {
     "name": "stdout",
     "output_type": "stream",
     "text": [
      "[[ 3  4  5  6]\n",
      " [ 7  8  9 10]\n",
      " [11 12 13 14]]\n",
      "[11 12 13 14]\n",
      "14\n",
      "[ 3  7 11]\n",
      "[ 4  8 12]\n",
      "[ 5  9 13]\n",
      "[ 6 10 14]\n",
      "3 4 5 6 7 8 9 10 11 12 13 14 "
     ]
    }
   ],
   "source": [
    "A = np.arange(3, 15).reshape(3, 4)\n",
    "print(A)\n",
    "print(A[2])\n",
    "print(A[2, 3])\n",
    "for column in A.T:\n",
    "    print(column)\n",
    "for item in A.flat:\n",
    "    print(item, end=' ')"
   ]
  },
  {
   "cell_type": "markdown",
   "metadata": {},
   "source": [
    "<font size=4  face=\"微软雅黑\">.vstack .hstack .concatenate</font>"
   ]
  },
  {
   "cell_type": "code",
   "execution_count": 7,
   "metadata": {},
   "outputs": [
    {
     "name": "stdout",
     "output_type": "stream",
     "text": [
      "[[1 1 1]\n",
      " [2 2 2]]\n",
      "[1 1 1 2 2 2]\n",
      "[[1 2 2]\n",
      " [1 2 2]\n",
      " [1 2 2]]\n",
      "[[1]\n",
      " [1]\n",
      " [1]\n",
      " [2]\n",
      " [2]\n",
      " [2]]\n",
      "[[1 1 2 2]\n",
      " [1 1 2 2]\n",
      " [1 1 2 2]]\n"
     ]
    }
   ],
   "source": [
    "A = np.array([1, 1, 1])\n",
    "B = np.array([2, 2, 2])\n",
    "C = np.vstack((A,B))\n",
    "print(C)\n",
    "D = np.hstack((A, B))\n",
    "print(D)\n",
    "A_T = A.reshape(-1, 1)\n",
    "B_T = B.reshape(-1, 1)\n",
    "C_T = np.hstack((A_T, B_T, B_T))\n",
    "print(C_T)\n",
    "D_T = np.vstack((A_T, B_T))\n",
    "print(D_T)\n",
    "E = np.concatenate((A_T, A_T, B_T, B_T), axis=1)\n",
    "print(E)"
   ]
  },
  {
   "cell_type": "markdown",
   "metadata": {},
   "source": [
    "<font size=4  face=\"微软雅黑\">.split .array_split</font>"
   ]
  },
  {
   "cell_type": "code",
   "execution_count": 8,
   "metadata": {},
   "outputs": [
    {
     "name": "stdout",
     "output_type": "stream",
     "text": [
      "[[ 0  1  2  3]\n",
      " [ 4  5  6  7]\n",
      " [ 8  9 10 11]]\n",
      "[array([[0, 1],\n",
      "       [4, 5],\n",
      "       [8, 9]]), array([[ 2,  3],\n",
      "       [ 6,  7],\n",
      "       [10, 11]])]\n",
      "[array([[1],\n",
      "       [5],\n",
      "       [9]]), array([[ 2],\n",
      "       [ 6],\n",
      "       [10]]), array([], shape=(3, 0), dtype=int32)]\n"
     ]
    }
   ],
   "source": [
    "A = np.arange(12).reshape(3, 4)\n",
    "print(A)\n",
    "B = np.split(A, 2, axis=1)\n",
    "print(B)\n",
    "C = np.array_split(A[:, 1:3], 3, axis=1)\n",
    "print(C)"
   ]
  },
  {
   "cell_type": "markdown",
   "metadata": {},
   "source": [
    "<font size=4  face=\"微软雅黑\">Test</font>"
   ]
  },
  {
   "cell_type": "code",
   "execution_count": 9,
   "metadata": {},
   "outputs": [
    {
     "name": "stdout",
     "output_type": "stream",
     "text": [
      "[163, 1202, 1432, 2795, 3166, 4176, 5408, 5860, 8959, 9617]\n"
     ]
    }
   ],
   "source": [
    "a = np.random.choice(np.random.randint(0, 9999, size=10), 10, replace=False)\n",
    "b = a.argsort()\n",
    "print(sorted(a))"
   ]
  },
  {
   "cell_type": "code",
   "execution_count": 10,
   "metadata": {},
   "outputs": [
    {
     "name": "stdout",
     "output_type": "stream",
     "text": [
      "[[0. 1. 2. 3. 4.]\n",
      " [0. 1. 2. 3. 4.]\n",
      " [0. 1. 2. 3. 4.]\n",
      " [0. 1. 2. 3. 4.]\n",
      " [0. 1. 2. 3. 4.]]\n"
     ]
    }
   ],
   "source": [
    "a = np.arange(0, 5, 1)\n",
    "b = np.zeros((5, 5))\n",
    "for i in range(5):\n",
    "    b[i] = a\n",
    "print(b)\n",
    "# print(np.array(list).transpose(1, 0))"
   ]
  },
  {
   "cell_type": "code",
   "execution_count": 11,
   "metadata": {},
   "outputs": [
    {
     "name": "stdout",
     "output_type": "stream",
     "text": [
      "[[0 1 2 3 4]\n",
      " [0 1 2 3 4]\n",
      " [0 1 2 3 4]\n",
      " [0 1 2 3 4]\n",
      " [0 1 2 3 4]]\n"
     ]
    }
   ],
   "source": [
    "a = np.arange(0, 5, 1).reshape(1, -1)\n",
    "b = a.transpose(1, 0)\n",
    "c = np.meshgrid(a, a.transpose(1, 0))[0]\n",
    "print(c)"
   ]
  },
  {
   "cell_type": "code",
   "execution_count": null,
   "metadata": {},
   "outputs": [],
   "source": []
  },
  {
   "cell_type": "code",
   "execution_count": null,
   "metadata": {},
   "outputs": [],
   "source": []
  }
 ],
 "metadata": {
  "kernelspec": {
   "display_name": "Python 3",
   "language": "python",
   "name": "python3"
  },
  "language_info": {
   "codemirror_mode": {
    "name": "ipython",
    "version": 3
   },
   "file_extension": ".py",
   "mimetype": "text/x-python",
   "name": "python",
   "nbconvert_exporter": "python",
   "pygments_lexer": "ipython3",
   "version": "3.7.1"
  }
 },
 "nbformat": 4,
 "nbformat_minor": 2
}
