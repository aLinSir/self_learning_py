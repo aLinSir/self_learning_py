{
 "cells": [
  {
   "cell_type": "code",
   "execution_count": 1,
   "metadata": {},
   "outputs": [],
   "source": [
    "import pandas as pd\n",
    "import numpy as np"
   ]
  },
  {
   "cell_type": "markdown",
   "metadata": {},
   "source": [
    "<font size=4  face=\"微软雅黑\">.Series .DataFrame .date_range .sort_values</font>"
   ]
  },
  {
   "cell_type": "code",
   "execution_count": 3,
   "metadata": {},
   "outputs": [
    {
     "name": "stdout",
     "output_type": "stream",
     "text": [
      "0     1.0\n",
      "1     3.0\n",
      "2     6.0\n",
      "3     NaN\n",
      "4    44.0\n",
      "5     1.0\n",
      "dtype: float64\n",
      "<class 'numpy.float64'>\n",
      "<class 'pandas.core.indexes.datetimes.DatetimeIndex'>\n",
      "                   a         b         c         d\n",
      "2016-01-01  0.976769  1.216366  0.755488 -1.166876\n",
      "2016-01-06  0.094132  0.709565 -0.219765 -0.501556\n",
      "2016-01-04  1.648303 -0.058042 -1.361834 -1.106543\n",
      "2016-01-05  0.765988 -0.332497 -0.539319  0.028315\n",
      "2016-01-03  1.729746 -1.504915  1.112002  0.608256\n",
      "2016-01-02 -1.669225 -1.787684  0.183072  1.186451\n"
     ]
    }
   ],
   "source": [
    "s = pd.Series([1, 3, 6, np.nan, 44, 1])\n",
    "print(s)\n",
    "print(type(s[3]))                              #np.nan的type是float64\n",
    "dates = pd.date_range('20160101', periods=6)\n",
    "# dates = [1, 2, 3, 4, 5, 6]\n",
    "print(type(dates))\n",
    "df = pd.DataFrame(np.random.randn(6, 4), index=dates, columns=['a', 'b', 'c', 'd'])\n",
    "# print(df)\n",
    "# print(df.dtypes)\n",
    "# print(df.index)\n",
    "# print(df.columns)\n",
    "# print(df.describe())\n",
    "# df.info()\n",
    "df = df.sort_values(by='b', ascending=False)   # True从小到大, False从大到小\n",
    "print(df)"
   ]
  },
  {
   "cell_type": "markdown",
   "metadata": {},
   "source": [
    "<font size=4  face=\"微软雅黑\">Two</font>"
   ]
  },
  {
   "cell_type": "code",
   "execution_count": 28,
   "metadata": {},
   "outputs": [
    {
     "name": "stdout",
     "output_type": "stream",
     "text": [
      "    a   b   c   d   e   f   g   h\n",
      "0  51  50  30  28  26  87  19  89\n",
      "1  98  42  37  94  91  87  82  75\n",
      "2  90  20  40  24  88  36  36  11\n",
      "3  53   7  65  81  34  53  71  28\n",
      "4  72  87  63  13   8  24  18  21\n"
     ]
    }
   ],
   "source": [
    "columns = [chr(i) for i in np.arange(97, 105, 1)]\n",
    "df = pd.DataFrame(np.random.randint(1, 100, size=40).reshape(5, 8), index=np.arange(0, 5, 1), columns=columns)\n",
    "print(df)"
   ]
  },
  {
   "cell_type": "code",
   "execution_count": 29,
   "metadata": {},
   "outputs": [
    {
     "name": "stdout",
     "output_type": "stream",
     "text": [
      "<class 'pandas.core.indexes.numeric.Int64Index'>\n",
      "<class 'pandas.core.indexes.base.Index'>\n",
      "<class 'numpy.ndarray'>\n",
      "Int64Index([0, 1, 2, 3, 4], dtype='int64')\n",
      "Index(['a', 'b', 'c', 'd', 'e', 'f', 'g', 'h'], dtype='object')\n",
      "[[51 50 30 28 26 87 19 89]\n",
      " [98 42 37 94 91 87 82 75]\n",
      " [90 20 40 24 88 36 36 11]\n",
      " [53  7 65 81 34 53 71 28]\n",
      " [72 87 63 13  8 24 18 21]]\n",
      "    a    b   c   d   e   f   g   h\n",
      "0  Aa  不合法  30  28  26  87  19  89\n",
      "1  Bb  不合法  37  94  91  87  82  75\n",
      "2  Cc  不合法  40  24  88  36  36  11\n",
      "3  Dd  不合法  65  81  34  53  71  28\n",
      "4  Ee   合法  63  13   8  24  18  21\n"
     ]
    }
   ],
   "source": [
    "print(type(df.index))\n",
    "print(type(df.columns))\n",
    "print(type(df.values))\n",
    "print(df.index)\n",
    "print(df.columns)\n",
    "print(df.values) \n",
    "df['a'] = ['aa', 'bb', 'cc', 'dd', 'ee']\n",
    "df['a'] = df['a'].apply(lambda x: x.capitalize())\n",
    "df['b'] = df['b'].apply(lambda x: '合法' if x > 75 else '不合法')\n",
    "print(df)"
   ]
  },
  {
   "cell_type": "code",
   "execution_count": 22,
   "metadata": {
    "scrolled": true
   },
   "outputs": [
    {
     "name": "stdout",
     "output_type": "stream",
     "text": [
      "0   -0.495033\n",
      "1   -0.018212\n",
      "2   -0.011589\n",
      "3   -0.004967\n",
      "4    0.001656\n",
      "5    0.008278\n",
      "6    0.014901\n",
      "7    0.504967\n",
      "Name: a, dtype: float64\n",
      "0   -1.850703\n",
      "1   -0.068086\n",
      "2   -0.043327\n",
      "3   -0.018569\n",
      "4    0.006190\n",
      "5    0.030948\n",
      "6    0.055707\n",
      "7    1.887841\n",
      "Name: a, dtype: float64\n",
      "0    0.000000\n",
      "1    0.476821\n",
      "2    0.483444\n",
      "3    0.490066\n",
      "4    0.496689\n",
      "5    0.503311\n",
      "6    0.509934\n",
      "7    1.000000\n",
      "Name: a, dtype: float64\n"
     ]
    }
   ],
   "source": [
    "df = pd.DataFrame({'a': [-71, 1, 2, 3, 4, 5, 6, 80]})\n",
    "mean_a = df['a'].mean()\n",
    "std_a = df['a'].std()\n",
    "max_a = df['a'].max()\n",
    "min_a = df['a'].min()\n",
    "df_new = (df['a'] - mean_a) / std_a\n",
    "df1 = (df['a'] - mean_a) / (max_a - min_a)\n",
    "df2 = (df['a'] - min_a) / (max_a - min_a)\n",
    "print(df1)\n",
    "print(df_new)\n",
    "print(df2)"
   ]
  },
  {
   "cell_type": "code",
   "execution_count": null,
   "metadata": {
    "scrolled": true
   },
   "outputs": [],
   "source": []
  },
  {
   "cell_type": "code",
   "execution_count": null,
   "metadata": {},
   "outputs": [],
   "source": []
  },
  {
   "cell_type": "code",
   "execution_count": null,
   "metadata": {},
   "outputs": [],
   "source": []
  },
  {
   "cell_type": "code",
   "execution_count": null,
   "metadata": {},
   "outputs": [],
   "source": [
    "<font size=4  face=\"微软雅黑\">.dot .random</font>"
   ]
  },
  {
   "cell_type": "code",
   "execution_count": null,
   "metadata": {},
   "outputs": [],
   "source": [
    "<font size=4  face=\"微软雅黑\">.dot .random</font>"
   ]
  },
  {
   "cell_type": "code",
   "execution_count": null,
   "metadata": {},
   "outputs": [],
   "source": [
    "<font size=4  face=\"微软雅黑\">.dot .random</font>"
   ]
  },
  {
   "cell_type": "code",
   "execution_count": null,
   "metadata": {},
   "outputs": [],
   "source": [
    "<font size=4  face=\"微软雅黑\">.dot .random</font>"
   ]
  },
  {
   "cell_type": "code",
   "execution_count": null,
   "metadata": {},
   "outputs": [],
   "source": [
    "<font size=4  face=\"微软雅黑\">.dot .random</font>"
   ]
  },
  {
   "cell_type": "code",
   "execution_count": null,
   "metadata": {},
   "outputs": [],
   "source": [
    "<font size=4  face=\"微软雅黑\">.dot .random</font>"
   ]
  }
 ],
 "metadata": {
  "kernelspec": {
   "display_name": "Python 3",
   "language": "python",
   "name": "python3"
  },
  "language_info": {
   "codemirror_mode": {
    "name": "ipython",
    "version": 3
   },
   "file_extension": ".py",
   "mimetype": "text/x-python",
   "name": "python",
   "nbconvert_exporter": "python",
   "pygments_lexer": "ipython3",
   "version": "3.6.5"
  }
 },
 "nbformat": 4,
 "nbformat_minor": 2
}
